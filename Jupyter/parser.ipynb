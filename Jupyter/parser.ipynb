{
 "cells": [
  {
   "cell_type": "code",
   "execution_count": 16,
   "id": "47a68e1c",
   "metadata": {},
   "outputs": [
    {
     "name": "stdout",
     "output_type": "stream",
     "text": [
      "   Table 1   BBBB\n",
      "0       NaN   NaN\n",
      "1       NaN   NaN\n",
      "2       NaN   NaN\n",
      "3       NaN   NaN\n"
     ]
    }
   ],
   "source": [
    "import pandas as pd\n",
    "\n",
    "data = pd.read_excel (r'/Users/andrey/pythonprojects/Jupyter/table1.xlsx')\n",
    "df = pd.DataFrame(data, columns= ['Table 1 ', 'BBBB'])\n",
    "print (df)"
   ]
  },
  {
   "cell_type": "code",
   "execution_count": null,
   "id": "6d70d336",
   "metadata": {},
   "outputs": [],
   "source": []
  },
  {
   "cell_type": "code",
   "execution_count": null,
   "id": "c7e935e8",
   "metadata": {},
   "outputs": [],
   "source": []
  },
  {
   "cell_type": "code",
   "execution_count": 14,
   "id": "d08cd62f",
   "metadata": {},
   "outputs": [
    {
     "name": "stdout",
     "output_type": "stream",
     "text": [
      "  Table 1 Unnamed: 1  Unnamed: 2  Unnamed: 3  Unnamed: 4  Unnamed: 5  \\\n",
      "0   AAAAA       BBBB         NaN         NaN         NaN         NaN   \n",
      "1      a1        b11         NaN         NaN         NaN         NaN   \n",
      "2      a2        b22         NaN         NaN         NaN         NaN   \n",
      "3      a3        b22         NaN         NaN         NaN         NaN   \n",
      "\n",
      "   Unnamed: 6  \n",
      "0         NaN  \n",
      "1         NaN  \n",
      "2         NaN  \n",
      "3         NaN  \n"
     ]
    }
   ],
   "source": [
    "import pandas as pd\n",
    "\n",
    "data = pd.read_excel (r'/Users/andrey/pythonprojects/Jupyter/table1.xlsx')\n",
    "print (data)"
   ]
  },
  {
   "cell_type": "code",
   "execution_count": 36,
   "id": "899a7da7",
   "metadata": {},
   "outputs": [
    {
     "name": "stdout",
     "output_type": "stream",
     "text": [
      "['Table 1', None, None, None, None, None, None]\n",
      "['Table 1', 'AAAAA', 'a1', 'a2', 'a3', None, None]\n",
      "@startuml\n",
      "package \"Table 1\" {\n",
      "package \"AAAAA\" {\n",
      "package \"a1\" {\n",
      "package \"a2\" {\n",
      "package \"a3\" {\n"
     ]
    },
    {
     "ename": "TypeError",
     "evalue": "can only concatenate str (not \"NoneType\") to str",
     "output_type": "error",
     "traceback": [
      "\u001b[0;31m---------------------------------------------------------------------------\u001b[0m",
      "\u001b[0;31mTypeError\u001b[0m                                 Traceback (most recent call last)",
      "\u001b[0;32m<ipython-input-36-a013612ddadf>\u001b[0m in \u001b[0;36m<module>\u001b[0;34m\u001b[0m\n\u001b[1;32m     20\u001b[0m \u001b[0mprint\u001b[0m \u001b[0;34m(\u001b[0m\u001b[0;34m\"@startuml\"\u001b[0m\u001b[0;34m)\u001b[0m\u001b[0;34m\u001b[0m\u001b[0;34m\u001b[0m\u001b[0m\n\u001b[1;32m     21\u001b[0m \u001b[0;32mfor\u001b[0m \u001b[0mrow\u001b[0m \u001b[0;32min\u001b[0m \u001b[0mrow_names\u001b[0m\u001b[0;34m:\u001b[0m\u001b[0;34m\u001b[0m\u001b[0;34m\u001b[0m\u001b[0m\n\u001b[0;32m---> 22\u001b[0;31m     \u001b[0mprint\u001b[0m \u001b[0;34m(\u001b[0m\u001b[0;34m\"package \\\"\"\u001b[0m \u001b[0;34m+\u001b[0m \u001b[0mrow\u001b[0m \u001b[0;34m+\u001b[0m \u001b[0;34m\"\\\" {\"\u001b[0m\u001b[0;34m)\u001b[0m\u001b[0;34m\u001b[0m\u001b[0;34m\u001b[0m\u001b[0m\n\u001b[0m\u001b[1;32m     23\u001b[0m \u001b[0;34m\u001b[0m\u001b[0m\n\u001b[1;32m     24\u001b[0m \u001b[0;34m\u001b[0m\u001b[0m\n",
      "\u001b[0;31mTypeError\u001b[0m: can only concatenate str (not \"NoneType\") to str"
     ]
    }
   ],
   "source": [
    "import openpyxl\n",
    "from pathlib import Path\n",
    "\n",
    "xlsx_file = Path('SimData', '/Users/andrey/pythonprojects/Jupyter/table1.xlsx')\n",
    "wb_obj = openpyxl.load_workbook(xlsx_file)\n",
    "sheet = wb_obj.active\n",
    "\n",
    "col_names = []\n",
    "for column in sheet.iter_cols(1, sheet.max_column):\n",
    "    col_names.append(column[0].value)\n",
    "\n",
    "row_names = []    \n",
    "for row in sheet.iter_rows(1, sheet.max_column):\n",
    "    row_names.append(row[0].value)\n",
    "    \n",
    "print(col_names)\n",
    "print(row_names)\n",
    "\n",
    "count = 0\n",
    "print (\"@startuml\")\n",
    "for row in row_names:\n",
    "    print (\"package \\\"\" + row + \"\\\" {\")\n",
    "    \n",
    "    \n",
    "\n",
    "    "
   ]
  },
  {
   "cell_type": "code",
   "execution_count": null,
   "id": "c58b15b5",
   "metadata": {},
   "outputs": [],
   "source": []
  }
 ],
 "metadata": {
  "kernelspec": {
   "display_name": "Python 3",
   "language": "python",
   "name": "python3"
  },
  "language_info": {
   "codemirror_mode": {
    "name": "ipython",
    "version": 3
   },
   "file_extension": ".py",
   "mimetype": "text/x-python",
   "name": "python",
   "nbconvert_exporter": "python",
   "pygments_lexer": "ipython3",
   "version": "3.8.8"
  }
 },
 "nbformat": 4,
 "nbformat_minor": 5
}
